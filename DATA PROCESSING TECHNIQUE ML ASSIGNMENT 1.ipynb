{
 "cells": [
  {
   "cell_type": "markdown",
   "id": "fbd885dc",
   "metadata": {},
   "source": [
    "(ii) Please download suitable dataset from Kaggle, GitHub or UCI Machine Learning repository. Represent all major data preprocessing techniques in python like removing missing values, Column transformation, removing outliers, drop duplicates, data integration and data reduction."
   ]
  },
  {
   "cell_type": "code",
   "execution_count": 55,
   "id": "bc33d2bf",
   "metadata": {},
   "outputs": [],
   "source": [
    "import pandas as pd\n",
    "from sklearn.compose import ColumnTransformer\n",
    "from sklearn.preprocessing import OneHotEncoder"
   ]
  },
  {
   "cell_type": "code",
   "execution_count": 56,
   "id": "64075f3e",
   "metadata": {},
   "outputs": [
    {
     "name": "stdout",
     "output_type": "stream",
     "text": [
      "   order_id        date        item_name  item_type  item_price  quantity  \\\n",
      "0         1  07-03-2022         Aalopuri   Fastfood        20.0      13.0   \n",
      "1         2   8/23/2022          Vadapav   Fastfood        20.0      15.0   \n",
      "2         3  11/20/2022          Vadapav   Fastfood        20.0       1.0   \n",
      "3         4  02-03-2023  Sugarcane juice  Beverages         NaN       6.0   \n",
      "4         5  10-02-2022  Sugarcane juice  Beverages        25.0       8.0   \n",
      "\n",
      "   transaction_amount transaction_type received_by time_of_sale  \n",
      "0               260.0              NaN         Mr.        Night  \n",
      "1               300.0             Cash         Mr.    Afternoon  \n",
      "2                20.0             Cash         Mr.    Afternoon  \n",
      "3               150.0           Online         Mr.        Night  \n",
      "4               200.0           Online         Mr.      Evening  \n"
     ]
    }
   ],
   "source": [
    "\n",
    "\n",
    "# Read the dataset\n",
    "data = pd.read_csv('D:/AbdulRehman/8th semester/ML/Assignmnet/Balaji Fast Food Sales.csv')\n",
    "\n",
    "# Display the first few rows of the dataset\n",
    "print(data.head())\n"
   ]
  },
  {
   "cell_type": "code",
   "execution_count": 57,
   "id": "ad994d4e",
   "metadata": {},
   "outputs": [
    {
     "name": "stdout",
     "output_type": "stream",
     "text": [
      "order_id                0\n",
      "date                    0\n",
      "item_name               0\n",
      "item_type               0\n",
      "item_price             16\n",
      "quantity                5\n",
      "transaction_amount      4\n",
      "transaction_type      107\n",
      "received_by             0\n",
      "time_of_sale            0\n",
      "dtype: int64\n"
     ]
    }
   ],
   "source": [
    "print(data.isnull().sum())\n"
   ]
  },
  {
   "cell_type": "code",
   "execution_count": 58,
   "id": "55bd5f66",
   "metadata": {},
   "outputs": [
    {
     "name": "stdout",
     "output_type": "stream",
     "text": [
      "   order_id        date        item_name  item_type  item_price  quantity  \\\n",
      "1         2   8/23/2022          Vadapav   Fastfood        20.0      15.0   \n",
      "2         3  11/20/2022          Vadapav   Fastfood        20.0       1.0   \n",
      "4         5  10-02-2022  Sugarcane juice  Beverages        25.0       8.0   \n",
      "5         6  11/14/2022          Vadapav   Fastfood        20.0      10.0   \n",
      "6         7  05-03-2022  Sugarcane juice  Beverages        25.0       9.0   \n",
      "\n",
      "   transaction_amount transaction_type received_by time_of_sale  \n",
      "1               300.0             Cash         Mr.    Afternoon  \n",
      "2                20.0             Cash         Mr.    Afternoon  \n",
      "4               200.0           Online         Mr.      Evening  \n",
      "5               200.0             Cash         Mr.      Evening  \n",
      "6               225.0             Cash         Mr.      Evening  \n"
     ]
    }
   ],
   "source": [
    "\n",
    "# Drop NaN values\n",
    "data.dropna(inplace=True)\n",
    "print(data.head())"
   ]
  },
  {
   "cell_type": "code",
   "execution_count": 80,
   "id": "054be67d",
   "metadata": {},
   "outputs": [],
   "source": [
    "# Separate features (x) and target variable (y)\n",
    "x = data.drop(['transaction_amount', 'transaction_type'], axis=1)  # Exclude 'transaction_type'\n",
    "y = data['transaction_amount']\n"
   ]
  },
  {
   "cell_type": "code",
   "execution_count": 81,
   "id": "6de3d2a9",
   "metadata": {},
   "outputs": [
    {
     "name": "stdout",
     "output_type": "stream",
     "text": [
      "     order_id        date        item_name  item_type  item_price  quantity  \\\n",
      "1           2   8/23/2022          Vadapav   Fastfood        20.0      15.0   \n",
      "2           3  11/20/2022          Vadapav   Fastfood        20.0       1.0   \n",
      "4           5  10-02-2022  Sugarcane juice  Beverages        25.0       8.0   \n",
      "5           6  11/14/2022          Vadapav   Fastfood        20.0      10.0   \n",
      "6           7  05-03-2022  Sugarcane juice  Beverages        25.0       9.0   \n",
      "..        ...         ...              ...        ...         ...       ...   \n",
      "990       991   1/18/2023         Sandwich   Fastfood        60.0       7.0   \n",
      "991       992  10/21/2022         Sandwich   Fastfood        60.0       5.0   \n",
      "992       993   7/17/2022          Frankie   Fastfood        50.0       3.0   \n",
      "993       994  11-01-2022         Panipuri   Fastfood        20.0       2.0   \n",
      "994       995   6/18/2022  Sugarcane juice  Beverages        25.0       1.0   \n",
      "\n",
      "    received_by time_of_sale  \n",
      "1           Mr.    Afternoon  \n",
      "2           Mr.    Afternoon  \n",
      "4           Mr.      Evening  \n",
      "5           Mr.      Evening  \n",
      "6           Mr.      Evening  \n",
      "..          ...          ...  \n",
      "990        Mrs.        Night  \n",
      "991         Mr.      Morning  \n",
      "992        Mrs.        Night  \n",
      "993        Mrs.      Evening  \n",
      "994         Mr.        Night  \n",
      "\n",
      "[873 rows x 8 columns]\n"
     ]
    }
   ],
   "source": [
    "print(x)"
   ]
  },
  {
   "cell_type": "code",
   "execution_count": 82,
   "id": "80c933f3",
   "metadata": {},
   "outputs": [
    {
     "name": "stdout",
     "output_type": "stream",
     "text": [
      "1      300.0\n",
      "2       20.0\n",
      "4      200.0\n",
      "5      200.0\n",
      "6      225.0\n",
      "       ...  \n",
      "990    420.0\n",
      "991    300.0\n",
      "992    150.0\n",
      "993     40.0\n",
      "994     25.0\n",
      "Name: transaction_amount, Length: 873, dtype: float64\n"
     ]
    }
   ],
   "source": [
    "print(y)\n"
   ]
  },
  {
   "cell_type": "code",
   "execution_count": 83,
   "id": "2ba618cb",
   "metadata": {},
   "outputs": [],
   "source": [
    "# Identify categorical columns to be one-hot encoded\n",
    "categorical_cols = ['date', 'item_name', 'item_type', 'received_by', 'time_of_sale']"
   ]
  },
  {
   "cell_type": "code",
   "execution_count": 84,
   "id": "e9fb0480",
   "metadata": {},
   "outputs": [],
   "source": [
    "# Create a column transformer\n",
    "ct = ColumnTransformer(transformers=[('encoder', OneHotEncoder(handle_unknown='ignore'), categorical_cols)], remainder=\"passthrough\")\n"
   ]
  },
  {
   "cell_type": "code",
   "execution_count": 85,
   "id": "7ee8d4b0",
   "metadata": {},
   "outputs": [],
   "source": [
    "\n",
    "# Apply one-hot encoding to the features\n",
    "x_encoded = ct.fit_transform(x)"
   ]
  },
  {
   "cell_type": "code",
   "execution_count": 88,
   "id": "f6b97961",
   "metadata": {},
   "outputs": [
    {
     "name": "stdout",
     "output_type": "stream",
     "text": [
      "                                                   0\n",
      "0    (0, 315)\\t1.0\\n  (0, 345)\\t1.0\\n  (0, 347)\\t...\n",
      "1    (0, 166)\\t1.0\\n  (0, 345)\\t1.0\\n  (0, 347)\\t...\n",
      "2    (0, 120)\\t1.0\\n  (0, 344)\\t1.0\\n  (0, 346)\\t...\n",
      "3    (0, 160)\\t1.0\\n  (0, 345)\\t1.0\\n  (0, 347)\\t...\n",
      "4    (0, 46)\\t1.0\\n  (0, 344)\\t1.0\\n  (0, 346)\\t1...\n"
     ]
    }
   ],
   "source": [
    "# Now, x_encoded contains the one-hot encoded features\n",
    "\n",
    "x_encoded_df = pd.DataFrame(x_encoded)\n",
    "\n",
    "# Display the first few rows of the updated DataFrame\n",
    "print(x_encoded_df.head())\n",
    "\n",
    "\n"
   ]
  },
  {
   "cell_type": "code",
   "execution_count": 89,
   "id": "0732860e",
   "metadata": {},
   "outputs": [],
   "source": []
  },
  {
   "cell_type": "code",
   "execution_count": 96,
   "id": "6225991a",
   "metadata": {},
   "outputs": [],
   "source": [
    "#split the dataset for training and testing\n",
    "from sklearn.model_selection import train_test_split\n",
    "x_train,x_test,y_train,y_test = train_test_split(x,y,test_size=0.25,random_state = 2)\n"
   ]
  },
  {
   "cell_type": "code",
   "execution_count": 97,
   "id": "76eb8435",
   "metadata": {},
   "outputs": [
    {
     "name": "stdout",
     "output_type": "stream",
     "text": [
      "     order_id        date    item_name  item_type  item_price  quantity  \\\n",
      "730       731  03-09-2023      Frankie   Fastfood        50.0      10.0   \n",
      "333       334  04-04-2022  Cold coffee  Beverages        40.0       4.0   \n",
      "668       669   3/18/2023     Sandwich   Fastfood        60.0      11.0   \n",
      "438       439   9/30/2022      Frankie   Fastfood        50.0      13.0   \n",
      "807       808   9/21/2022     Panipuri   Fastfood        20.0       1.0   \n",
      "..        ...         ...          ...        ...         ...       ...   \n",
      "620       621   2/13/2023     Aalopuri   Fastfood        20.0       2.0   \n",
      "678       679  11-02-2022     Sandwich   Fastfood        60.0      12.0   \n",
      "573       574  10/22/2022     Aalopuri   Fastfood        20.0       1.0   \n",
      "611       612  02-06-2023     Aalopuri   Fastfood        20.0       3.0   \n",
      "199       200  12/25/2022  Cold coffee  Beverages        40.0      10.0   \n",
      "\n",
      "    received_by time_of_sale  \n",
      "730        Mrs.    Afternoon  \n",
      "333        Mrs.      Evening  \n",
      "668         Mr.      Evening  \n",
      "438         Mr.    Afternoon  \n",
      "807         Mr.      Morning  \n",
      "..          ...          ...  \n",
      "620        Mrs.      Evening  \n",
      "678         Mr.      Morning  \n",
      "573        Mrs.        Night  \n",
      "611         Mr.     Midnight  \n",
      "199        Mrs.      Morning  \n",
      "\n",
      "[654 rows x 8 columns]\n"
     ]
    }
   ],
   "source": [
    "print(x_train)"
   ]
  },
  {
   "cell_type": "code",
   "execution_count": 98,
   "id": "9d20f978",
   "metadata": {},
   "outputs": [
    {
     "name": "stdout",
     "output_type": "stream",
     "text": [
      "     order_id        date        item_name  item_type  item_price  quantity  \\\n",
      "733       734  10-07-2022          Frankie   Fastfood        50.0       7.0   \n",
      "993       994  11-01-2022         Panipuri   Fastfood        20.0       2.0   \n",
      "207       208   8/26/2022      Cold coffee  Beverages        40.0      13.0   \n",
      "87         88  07-07-2022      Cold coffee  Beverages        40.0      10.0   \n",
      "964       965  10-08-2022          Frankie   Fastfood        50.0       5.0   \n",
      "..        ...         ...              ...        ...         ...       ...   \n",
      "727       728  08-03-2022          Vadapav   Fastfood        20.0       1.0   \n",
      "745       746  08-05-2022  Sugarcane juice  Beverages        25.0       5.0   \n",
      "831       832  06-06-2022  Sugarcane juice  Beverages        25.0       4.0   \n",
      "512       513   7/16/2022      Cold coffee  Beverages        40.0       5.0   \n",
      "85         86  03-09-2023         Aalopuri   Fastfood        20.0      15.0   \n",
      "\n",
      "    received_by time_of_sale  \n",
      "733         Mr.      Evening  \n",
      "993        Mrs.      Evening  \n",
      "207        Mrs.     Midnight  \n",
      "87          Mr.      Evening  \n",
      "964        Mrs.        Night  \n",
      "..          ...          ...  \n",
      "727         Mr.     Midnight  \n",
      "745        Mrs.     Midnight  \n",
      "831         Mr.      Morning  \n",
      "512        Mrs.        Night  \n",
      "85          Mr.      Morning  \n",
      "\n",
      "[219 rows x 8 columns]\n"
     ]
    }
   ],
   "source": [
    "print(x_test)"
   ]
  },
  {
   "cell_type": "code",
   "execution_count": 99,
   "id": "730f65b4",
   "metadata": {},
   "outputs": [
    {
     "name": "stdout",
     "output_type": "stream",
     "text": [
      "730    500.0\n",
      "333    160.0\n",
      "668    660.0\n",
      "438    650.0\n",
      "807     20.0\n",
      "       ...  \n",
      "620     40.0\n",
      "678    720.0\n",
      "573     20.0\n",
      "611     60.0\n",
      "199    400.0\n",
      "Name: transaction_amount, Length: 654, dtype: float64\n"
     ]
    }
   ],
   "source": [
    "print(y_train)"
   ]
  },
  {
   "cell_type": "code",
   "execution_count": 100,
   "id": "6e061727",
   "metadata": {},
   "outputs": [
    {
     "name": "stdout",
     "output_type": "stream",
     "text": [
      "733    350.0\n",
      "993     40.0\n",
      "207    520.0\n",
      "87     400.0\n",
      "964    250.0\n",
      "       ...  \n",
      "727     20.0\n",
      "745    125.0\n",
      "831    100.0\n",
      "512    200.0\n",
      "85     300.0\n",
      "Name: transaction_amount, Length: 219, dtype: float64\n"
     ]
    }
   ],
   "source": [
    "print(y_test)"
   ]
  },
  {
   "cell_type": "code",
   "execution_count": 103,
   "id": "9d8e1522",
   "metadata": {},
   "outputs": [],
   "source": [
    "from sklearn.preprocessing import StandardScaler\n",
    "\n",
    "# Assuming x_train and x_test are DataFrames\n",
    "# Select only numeric columns\n",
    "numeric_columns = x_train.select_dtypes(include=['number']).columns\n",
    "\n",
    "# Create a StandardScaler object\n",
    "scaler = StandardScaler()\n",
    "\n",
    "# Fit the scaler to the training data and transform both the training and testing data\n",
    "x_train_scaled = scaler.fit_transform(x_train[numeric_columns])\n",
    "x_test_scaled = scaler.transform(x_test[numeric_columns])"
   ]
  },
  {
   "cell_type": "code",
   "execution_count": 104,
   "id": "ce3c7a33",
   "metadata": {},
   "outputs": [
    {
     "name": "stdout",
     "output_type": "stream",
     "text": [
      "     order_id        date    item_name  item_type  item_price  quantity  \\\n",
      "730       731  03-09-2023      Frankie   Fastfood        50.0      10.0   \n",
      "333       334  04-04-2022  Cold coffee  Beverages        40.0       4.0   \n",
      "668       669   3/18/2023     Sandwich   Fastfood        60.0      11.0   \n",
      "438       439   9/30/2022      Frankie   Fastfood        50.0      13.0   \n",
      "807       808   9/21/2022     Panipuri   Fastfood        20.0       1.0   \n",
      "..        ...         ...          ...        ...         ...       ...   \n",
      "620       621   2/13/2023     Aalopuri   Fastfood        20.0       2.0   \n",
      "678       679  11-02-2022     Sandwich   Fastfood        60.0      12.0   \n",
      "573       574  10/22/2022     Aalopuri   Fastfood        20.0       1.0   \n",
      "611       612  02-06-2023     Aalopuri   Fastfood        20.0       3.0   \n",
      "199       200  12/25/2022  Cold coffee  Beverages        40.0      10.0   \n",
      "\n",
      "    received_by time_of_sale  \n",
      "730        Mrs.    Afternoon  \n",
      "333        Mrs.      Evening  \n",
      "668         Mr.      Evening  \n",
      "438         Mr.    Afternoon  \n",
      "807         Mr.      Morning  \n",
      "..          ...          ...  \n",
      "620        Mrs.      Evening  \n",
      "678         Mr.      Morning  \n",
      "573        Mrs.        Night  \n",
      "611         Mr.     Midnight  \n",
      "199        Mrs.      Morning  \n",
      "\n",
      "[654 rows x 8 columns]\n"
     ]
    }
   ],
   "source": [
    "print(x_train)"
   ]
  },
  {
   "cell_type": "code",
   "execution_count": 105,
   "id": "f3f66f72",
   "metadata": {},
   "outputs": [
    {
     "name": "stdout",
     "output_type": "stream",
     "text": [
      "     order_id        date        item_name  item_type  item_price  quantity  \\\n",
      "733       734  10-07-2022          Frankie   Fastfood        50.0       7.0   \n",
      "993       994  11-01-2022         Panipuri   Fastfood        20.0       2.0   \n",
      "207       208   8/26/2022      Cold coffee  Beverages        40.0      13.0   \n",
      "87         88  07-07-2022      Cold coffee  Beverages        40.0      10.0   \n",
      "964       965  10-08-2022          Frankie   Fastfood        50.0       5.0   \n",
      "..        ...         ...              ...        ...         ...       ...   \n",
      "727       728  08-03-2022          Vadapav   Fastfood        20.0       1.0   \n",
      "745       746  08-05-2022  Sugarcane juice  Beverages        25.0       5.0   \n",
      "831       832  06-06-2022  Sugarcane juice  Beverages        25.0       4.0   \n",
      "512       513   7/16/2022      Cold coffee  Beverages        40.0       5.0   \n",
      "85         86  03-09-2023         Aalopuri   Fastfood        20.0      15.0   \n",
      "\n",
      "    received_by time_of_sale  \n",
      "733         Mr.      Evening  \n",
      "993        Mrs.      Evening  \n",
      "207        Mrs.     Midnight  \n",
      "87          Mr.      Evening  \n",
      "964        Mrs.        Night  \n",
      "..          ...          ...  \n",
      "727         Mr.     Midnight  \n",
      "745        Mrs.     Midnight  \n",
      "831         Mr.      Morning  \n",
      "512        Mrs.        Night  \n",
      "85          Mr.      Morning  \n",
      "\n",
      "[219 rows x 8 columns]\n"
     ]
    }
   ],
   "source": [
    "print(x_test)"
   ]
  },
  {
   "cell_type": "code",
   "execution_count": 113,
   "id": "b4ac6ffb",
   "metadata": {},
   "outputs": [],
   "source": [
    "# Assuming 'dataset' is your DataFrame\n",
    "data.drop_duplicates(inplace=True)"
   ]
  },
  {
   "cell_type": "code",
   "execution_count": 114,
   "id": "c205724f",
   "metadata": {},
   "outputs": [
    {
     "data": {
      "image/png": "[encoded data removed]",
      "text/plain": [
       "<Figure size 1200x600 with 2 Axes>"
      ]
     },
     "metadata": {},
     "output_type": "display_data"
    }
   ],
   "source": [
    "import matplotlib.pyplot as plt\n",
    "import seaborn as sns\n",
    "\n",
    "\n",
    "# Assuming 'data' is your DataFrame and 'quantity' is the column for which you want to remove outliers\n",
    "column_to_remove_outliers = 'item_price'\n",
    "data_without_outliers = data.copy()\n",
    "\n",
    "# Calculate the IQR (Interquartile Range)\n",
    "Q1 = data_without_outliers[column_to_remove_outliers].quantile(0.05)\n",
    "Q3 = data_without_outliers[column_to_remove_outliers].quantile(0.95)\n",
    "IQR = Q3 - Q1\n",
    "\n",
    "# Define the lower and upper bounds for outlier detection\n",
    "lower_bound = Q1 - 1.5 * IQR\n",
    "upper_bound = Q3 + 1.5 * IQR\n",
    "\n",
    "# Remove outliers\n",
    "data_without_outliers = data_without_outliers[(data_without_outliers[column_to_remove_outliers] >= lower_bound) & (data_without_outliers[column_to_remove_outliers] <= upper_bound)]\n",
    "\n",
    "# Plot the histogram before and after removing outliers\n",
    "plt.figure(figsize=(12, 6))\n",
    "\n",
    "# Before removing outliers\n",
    "plt.subplot(1, 2, 1)\n",
    "plt.title('Before Removing Outliers')\n",
    "sns.histplot(data[column_to_remove_outliers], kde=True)\n",
    "\n",
    "# After removing outliers\n",
    "plt.subplot(1, 2, 2)\n",
    "plt.title('After Removing Outliers')\n",
    "sns.histplot(data_without_outliers[column_to_remove_outliers], kde=True)\n",
    "\n",
    "plt.show()\n"
   ]
  },
  {
   "cell_type": "code",
   "execution_count": 116,
   "id": "9df3dea3",
   "metadata": {},
   "outputs": [
    {
     "name": "stdout",
     "output_type": "stream",
     "text": [
      "Upper Limit: 60.0\n",
      "Lower Limit: 20.0\n"
     ]
    }
   ],
   "source": [
    "upper_limit = data['item_price'].quantile(0.95)\n",
    "lower_limit = data['item_price'].quantile(0.05)\n",
    "\n",
    "print(f\"Upper Limit: {upper_limit}\")\n",
    "print(f\"Lower Limit: {lower_limit}\")"
   ]
  },
  {
   "cell_type": "code",
   "execution_count": null,
   "id": "52f9057e",
   "metadata": {},
   "outputs": [],
   "source": []
  }
 ],
 "metadata": {
  "kernelspec": {
   "display_name": "Python 3 (ipykernel)",
   "language": "python",
   "name": "python3"
  },
  "language_info": {
   "codemirror_mode": {
    "name": "ipython",
    "version": 3
   },
   "file_extension": ".py",
   "mimetype": "text/x-python",
   "name": "python",
   "nbconvert_exporter": "python",
   "pygments_lexer": "ipython3",
   "version": "3.11.5"
  }
 },
 "nbformat": 4,
 "nbformat_minor": 5
}
